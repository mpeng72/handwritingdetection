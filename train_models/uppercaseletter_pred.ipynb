{
 "cells": [
  {
   "cell_type": "code",
   "execution_count": 3,
   "id": "1b2eadcb",
   "metadata": {},
   "outputs": [],
   "source": [
    "import tensorflow\n",
    "import numpy as np\n",
    "import keras\n",
    "from keras import models\n",
    "from keras import layers\n",
    "import pandas as pd\n",
    "from sklearn.model_selection import train_test_split\n",
    "from sklearn.utils import shuffle\n",
    "import matplotlib.pyplot as plt"
   ]
  },
  {
   "cell_type": "code",
   "execution_count": 4,
   "id": "eeb3bae6",
   "metadata": {},
   "outputs": [
    {
     "name": "stdout",
     "output_type": "stream",
     "text": [
      "           0  0.1  0.2  0.3  0.4  0.5  0.6  0.7  0.8  0.9  ...  0.639  0.640  \\\n",
      "0        0.0  0.0  0.0  0.0  0.0  0.0  0.0  0.0  0.0  0.0  ...    0.0    0.0   \n",
      "1        0.0  0.0  0.0  0.0  0.0  0.0  0.0  0.0  0.0  0.0  ...    0.0    0.0   \n",
      "2        0.0  0.0  0.0  0.0  0.0  0.0  0.0  0.0  0.0  0.0  ...    0.0    0.0   \n",
      "3        0.0  0.0  0.0  0.0  0.0  0.0  0.0  0.0  0.0  0.0  ...    0.0    0.0   \n",
      "4        0.0  0.0  0.0  0.0  0.0  0.0  0.0  0.0  0.0  0.0  ...    0.0    0.0   \n",
      "...      ...  ...  ...  ...  ...  ...  ...  ...  ...  ...  ...    ...    ...   \n",
      "372445  25.0  0.0  0.0  0.0  0.0  0.0  0.0  0.0  0.0  0.0  ...    0.0    0.0   \n",
      "372446  25.0  0.0  0.0  0.0  0.0  0.0  0.0  0.0  0.0  0.0  ...    0.0    0.0   \n",
      "372447  25.0  0.0  0.0  0.0  0.0  0.0  0.0  0.0  0.0  0.0  ...    0.0    0.0   \n",
      "372448  25.0  0.0  0.0  0.0  0.0  0.0  0.0  0.0  0.0  0.0  ...    0.0    0.0   \n",
      "372449  25.0  0.0  0.0  0.0  0.0  0.0  0.0  0.0  0.0  0.0  ...    0.0    0.0   \n",
      "\n",
      "        0.641  0.642  0.643  0.644  0.645  0.646  0.647  0.648  \n",
      "0         0.0    0.0    0.0    0.0    0.0    0.0    0.0    0.0  \n",
      "1         0.0    0.0    0.0    0.0    0.0    0.0    0.0    0.0  \n",
      "2         0.0    0.0    0.0    0.0    0.0    0.0    0.0    0.0  \n",
      "3         0.0    0.0    0.0    0.0    0.0    0.0    0.0    0.0  \n",
      "4         0.0    0.0    0.0    0.0    0.0    0.0    0.0    0.0  \n",
      "...       ...    ...    ...    ...    ...    ...    ...    ...  \n",
      "372445    0.0    0.0    0.0    0.0    0.0    0.0    0.0    0.0  \n",
      "372446    0.0    0.0    0.0    0.0    0.0    0.0    0.0    0.0  \n",
      "372447    0.0    0.0    0.0    0.0    0.0    0.0    0.0    0.0  \n",
      "372448    0.0    0.0    0.0    0.0    0.0    0.0    0.0    0.0  \n",
      "372449    0.0    0.0    0.0    0.0    0.0    0.0    0.0    0.0  \n",
      "\n",
      "[372450 rows x 785 columns]\n"
     ]
    }
   ],
   "source": [
    "alphabet = pd.read_csv('alphabet.csv').astype('float32')\n",
    "print(alphabet)"
   ]
  },
  {
   "cell_type": "code",
   "execution_count": 12,
   "id": "4cb6833d",
   "metadata": {},
   "outputs": [
    {
     "name": "stdout",
     "output_type": "stream",
     "text": [
      "Train data shape:  (297960, 28, 28)\n",
      "Test data shape:  (74490, 28, 28)\n"
     ]
    }
   ],
   "source": [
    "IMAGES = alphabet.drop('0', axis=1)\n",
    "LABELS = alphabet['0']\n",
    "\n",
    "train_images, test_images, train_labels, test_labels = train_test_split(IMAGES, LABELS, test_size = 0.2)\n",
    "\n",
    "train_images = np.reshape(train_images.values, (train_images.shape[0], 28, 28))\n",
    "test_images = np.reshape(test_images.values, (test_images.shape[0], 28, 28))\n",
    "print(\"Train data shape: \", train_images.shape)\n",
    "print(\"Test data shape: \", test_images.shape)"
   ]
  },
  {
   "cell_type": "code",
   "execution_count": 18,
   "id": "fabca495",
   "metadata": {},
   "outputs": [],
   "source": [
    "shuff = shuffle(train_images[:100])"
   ]
  },
  {
   "cell_type": "code",
   "execution_count": 8,
   "id": "44d8027a",
   "metadata": {},
   "outputs": [
    {
     "name": "stdout",
     "output_type": "stream",
     "text": [
      "Train data shape:  (297960, 28, 28, 1)\n",
      "Test data shape:  (74490, 28, 28, 1)\n"
     ]
    }
   ],
   "source": [
    "train_IMAGES = train_images.reshape(train_images.shape[0], 28, 28, 1)\n",
    "test_IMAGES = test_images.reshape(test_images.shape[0], 28, 28, 1)\n",
    "print(\"Train data shape: \", train_IMAGES.shape)\n",
    "print(\"Test data shape: \", test_IMAGES.shape)"
   ]
  },
  {
   "cell_type": "code",
   "execution_count": 9,
   "id": "d1003615",
   "metadata": {},
   "outputs": [],
   "source": [
    "train_IMAGES = train_IMAGES.astype('float32')/255\n",
    "test_IMAGES = test_IMAGES.astype('float32')/255"
   ]
  },
  {
   "cell_type": "code",
   "execution_count": 11,
   "id": "e3efb2e2",
   "metadata": {},
   "outputs": [
    {
     "name": "stdout",
     "output_type": "stream",
     "text": [
      "Train label shape:  (297960, 26)\n",
      "Test label shape:  (74490, 26)\n"
     ]
    }
   ],
   "source": [
    "train_LABELS = keras.utils.to_categorical(train_labels, num_classes = 26)\n",
    "test_LABELS = keras.utils.to_categorical(test_labels, num_classes = 26)\n",
    "print(\"Train label shape: \", train_LABELS.shape)\n",
    "print(\"Test label shape: \", test_LABELS.shape)"
   ]
  },
  {
   "cell_type": "code",
   "execution_count": 15,
   "id": "9d7eec65",
   "metadata": {},
   "outputs": [
    {
     "name": "stdout",
     "output_type": "stream",
     "text": [
      "Model: \"sequential_2\"\n",
      "_________________________________________________________________\n",
      " Layer (type)                Output Shape              Param #   \n",
      "=================================================================\n",
      " conv2d_6 (Conv2D)           (None, 26, 26, 32)        320       \n",
      "                                                                 \n",
      " max_pooling2d_4 (MaxPooling  (None, 13, 13, 32)       0         \n",
      " 2D)                                                             \n",
      "                                                                 \n",
      " conv2d_7 (Conv2D)           (None, 11, 11, 64)        18496     \n",
      "                                                                 \n",
      " max_pooling2d_5 (MaxPooling  (None, 5, 5, 64)         0         \n",
      " 2D)                                                             \n",
      "                                                                 \n",
      " conv2d_8 (Conv2D)           (None, 3, 3, 64)          36928     \n",
      "                                                                 \n",
      " flatten_2 (Flatten)         (None, 576)               0         \n",
      "                                                                 \n",
      " dense_6 (Dense)             (None, 64)                36928     \n",
      "                                                                 \n",
      " dense_7 (Dense)             (None, 128)               8320      \n",
      "                                                                 \n",
      " dense_8 (Dense)             (None, 26)                3354      \n",
      "                                                                 \n",
      "=================================================================\n",
      "Total params: 104,346\n",
      "Trainable params: 104,346\n",
      "Non-trainable params: 0\n",
      "_________________________________________________________________\n",
      "Epoch 1/5\n",
      "4656/4656 [==============================] - 75s 16ms/step - loss: 0.1618 - accuracy: 0.9539\n",
      "Epoch 2/5\n",
      "4656/4656 [==============================] - 73s 16ms/step - loss: 0.0585 - accuracy: 0.9830\n",
      "Epoch 3/5\n",
      "4656/4656 [==============================] - 77s 17ms/step - loss: 0.0421 - accuracy: 0.9877\n",
      "Epoch 4/5\n",
      "4656/4656 [==============================] - 74s 16ms/step - loss: 0.0327 - accuracy: 0.9903\n",
      "Epoch 5/5\n",
      "4656/4656 [==============================] - 74s 16ms/step - loss: 0.0262 - accuracy: 0.9920\n"
     ]
    }
   ],
   "source": [
    "input_shape = (28,28,1)\n",
    "model = models.Sequential()\n",
    "model.add(layers.Conv2D(32, kernel_size=(3, 3),activation='relu',input_shape=input_shape))\n",
    "model.add(layers.MaxPooling2D(pool_size=(2, 2), strides = 2))\n",
    "model.add(layers.Conv2D(64, (3, 3), activation='relu'))\n",
    "model.add(layers.MaxPooling2D(pool_size=(2, 2), strides = 2))\n",
    "model.add(layers.Conv2D(64, (3, 3), activation='relu'))\n",
    "model.add(layers.Flatten())\n",
    "model.add(layers.Dense(64, activation='relu'))\n",
    "model.add(layers.Dense(128, activation='relu'))\n",
    "model.add(layers.Dense(26, activation = \"softmax\"))\n",
    "model.summary()\n",
    "\n",
    "model.compile(loss=keras.losses.categorical_crossentropy,optimizer=keras.optimizers.Adam(learning_rate = 0.001),metrics=['accuracy'])\n",
    "model.fit(train_IMAGES, train_LABELS, epochs = 5, batch_size=64)\n",
    "model.save('models/alphabet.h5')"
   ]
  },
  {
   "cell_type": "code",
   "execution_count": null,
   "id": "333e4e8a",
   "metadata": {},
   "outputs": [],
   "source": []
  }
 ],
 "metadata": {
  "kernelspec": {
   "display_name": "handwritingdetection",
   "language": "python",
   "name": "handwritingdetection"
  },
  "language_info": {
   "codemirror_mode": {
    "name": "ipython",
    "version": 3
   },
   "file_extension": ".py",
   "mimetype": "text/x-python",
   "name": "python",
   "nbconvert_exporter": "python",
   "pygments_lexer": "ipython3",
   "version": "3.10.0"
  }
 },
 "nbformat": 4,
 "nbformat_minor": 5
}
